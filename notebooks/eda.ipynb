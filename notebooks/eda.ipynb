{
 "cells": [
  {
   "cell_type": "code",
   "execution_count": null,
   "metadata": {},
   "outputs": [],
   "source": [
    "import os\n",
    "os.chdir('../')\n",
    "os.getcwd()"
   ]
  },
  {
   "cell_type": "code",
   "execution_count": null,
   "metadata": {},
   "outputs": [],
   "source": [
    "import pandas as pd\n",
    "import numpy as np\n",
    "import seaborn as sns"
   ]
  },
  {
   "cell_type": "code",
   "execution_count": null,
   "metadata": {},
   "outputs": [],
   "source": [
    "from src.io import dataloader"
   ]
  },
  {
   "cell_type": "code",
   "execution_count": null,
   "metadata": {},
   "outputs": [],
   "source": []
  },
  {
   "cell_type": "code",
   "execution_count": null,
   "metadata": {},
   "outputs": [],
   "source": [
    "def preproccess(df, personenzug=False, clean_columns=False, remove_duplicates=False):\n",
    "\n",
    "    # drop all rows where kind is Personenzug\n",
    "    if personenzug:\n",
    "        df = df[~df.kind.isin(['IC-A (12.1)', 'ICE-T (14.1)', 'EC (12.1)', 'RB-D (41.1)', 'RE-D (40.1)', 'IC (12.1)', 'RB (41.1)', 'RE (40.1)',])]\n",
    "\n",
    "    # delete columns: timetablePeriodID, remarks, trainsetLength, trainsetWeight, compID, sectionID\n",
    "    if clean_columns:\n",
    "        df = df.drop(columns=['timetablePeriodID', 'remarks', 'trainsetLength', 'trainsetWeight, compID, sectionID'])\n",
    "\n",
    "    if remove_duplicates:\n",
    "        df = df.drop_duplicates(subset='Betriebsstelle', keep='first')\n",
    "    return df"
   ]
  },
  {
   "cell_type": "code",
   "execution_count": null,
   "metadata": {},
   "outputs": [],
   "source": [
    "def change_to_time(df, column_name):\n",
    "    df[column_name] = pd.to_datetime(df[column_name], format='%H:%M:%S.00')\n",
    "    return df"
   ]
  },
  {
   "cell_type": "code",
   "execution_count": null,
   "metadata": {},
   "outputs": [],
   "source": [
    "df_kss = dataloader.load_kss()\n",
    "df_kss"
   ]
  },
  {
   "cell_type": "code",
   "execution_count": null,
   "metadata": {},
   "outputs": [],
   "source": [
    "df_spurplanbetriebsstellen = dataloader.load_spurplanbetriebsstellen()\n",
    "df_spurplanbetriebsstellen"
   ]
  },
  {
   "cell_type": "code",
   "execution_count": null,
   "metadata": {},
   "outputs": [],
   "source": [
    "df_spurplanbetriebsstellen = preproccess(remove_duplicates= True, df=df_spurplanbetriebsstellen)\n",
    "df_spurplanbetriebsstellen"
   ]
  },
  {
   "cell_type": "code",
   "execution_count": null,
   "metadata": {},
   "outputs": [],
   "source": [
    "# df_kss = df_kss.join(other=df_spurplanbetriebsstellen, )\n",
    "# join df_kss and df_spurplanbetriebsstellen on Betriebsstelle and posID\n",
    "df_joined = df_kss.merge(right=df_spurplanbetriebsstellen, how='left', left_on='posID', right_on='Betriebsstelle')\n",
    "df_joined = change_to_time(df_joined, 'publishedDeparture')\n",
    "df_joined = change_to_float(df_joined, 'X')\n",
    "df_joined = change_to_float(df_joined, 'Y')\n",
    "df_joined\n",
    "\n",
    "\n"
   ]
  },
  {
   "cell_type": "code",
   "execution_count": null,
   "metadata": {},
   "outputs": [],
   "source": [
    "#Shift joined dataframe by\n",
    "df_joined[['previous_train_id', 'pevious_departure', 'previous_x', 'previous_y']] = df_joined[['trainID', 'publishedDeparture', 'X', 'Y']].shift(1)\n",
    "df_joined"
   ]
  },
  {
   "cell_type": "code",
   "execution_count": null,
   "metadata": {},
   "outputs": [],
   "source": [
    "df_joined['time_diff'] = df_joined['publishedDeparture']-df_joined['pevious_departure']\n",
    "df_joined['time_diff'] = df_joined['time_diff'].dt.total_seconds()\n",
    "# use absolute values of X and Y to calculate distance\n",
    "df_joined['distance'] = np.sqrt((df_joined['X']-df_joined['previous_x'])**2+(df_joined['Y']-df_joined['previous_y'])**2)\n",
    "df_joined['speed'] = df_joined['distance']/df_joined['time_diff']\n",
    "\n",
    "df_joined\n"
   ]
  },
  {
   "cell_type": "code",
   "execution_count": null,
   "metadata": {},
   "outputs": [],
   "source": [
    "# when trainID changes, set last_speed to 0\n",
    "df_joined.loc[df_joined['trainID'] != df_joined['previous_train_id'], 'speed'] = 0\n",
    "# when trainID changes, set distance to 0\n",
    "df_joined.loc[df_joined['trainID'] != df_joined['previous_train_id'], 'distance'] = 0\n",
    "df_joined\n"
   ]
  },
  {
   "cell_type": "code",
   "execution_count": null,
   "metadata": {},
   "outputs": [],
   "source": [
    "sns.histplot(data=df_joined, x='speed', bins=100)\n"
   ]
  },
  {
   "cell_type": "code",
   "execution_count": null,
   "metadata": {},
   "outputs": [],
   "source": [
    "# pearson correlation of average speed per tranID and total distance\n",
    "df_joined.groupby('trainID').agg({'speed': 'mean', 'distance': 'sum'}).corr(method='pearson')"
   ]
  },
  {
   "cell_type": "code",
   "execution_count": null,
   "metadata": {},
   "outputs": [],
   "source": [
    "df_joined.dtypes"
   ]
  },
  {
   "cell_type": "code",
   "execution_count": null,
   "metadata": {},
   "outputs": [],
   "source": [
    "df_joined.groupby('Betriebsstelle').agg({'speed': 'mean', 'distance': 'sum'}).sort_values(by='speed', ascending=False)"
   ]
  },
  {
   "cell_type": "code",
   "execution_count": null,
   "metadata": {},
   "outputs": [],
   "source": [
    "df_joined.groupby('trainID').agg({'speed': 'mean', 'totalWeight': 'mean'}).corr(method='pearson')"
   ]
  },
  {
   "cell_type": "code",
   "execution_count": null,
   "metadata": {},
   "outputs": [],
   "source": []
  }
 ],
 "metadata": {
  "kernelspec": {
   "display_name": "Master",
   "language": "python",
   "name": "python3"
  },
  "language_info": {
   "codemirror_mode": {
    "name": "ipython",
    "version": 3
   },
   "file_extension": ".py",
   "mimetype": "text/x-python",
   "name": "python",
   "nbconvert_exporter": "python",
   "pygments_lexer": "ipython3",
   "version": "3.11.3"
  },
  "orig_nbformat": 4
 },
 "nbformat": 4,
 "nbformat_minor": 2
}
